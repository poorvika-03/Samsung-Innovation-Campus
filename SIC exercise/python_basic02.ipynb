{
  "cells": [
    {
      "cell_type": "markdown",
      "metadata": {
        "id": "view-in-github",
        "colab_type": "text"
      },
      "source": [
        "<a href=\"https://colab.research.google.com/github/poorvika-03/Samsung-Innovation-Campus/blob/main/python_basic02.ipynb\" target=\"_parent\"><img src=\"https://colab.research.google.com/assets/colab-badge.svg\" alt=\"Open In Colab\"/></a>"
      ]
    },
    {
      "cell_type": "markdown",
      "metadata": {
        "id": "GXkD0iVMlxp-"
      },
      "source": [
        "## Coding Exercise #0102"
      ]
    },
    {
      "cell_type": "markdown",
      "metadata": {
        "id": "0FI62yFZlxp_"
      },
      "source": [
        "### 1. Number:"
      ]
    },
    {
      "cell_type": "markdown",
      "metadata": {
        "id": "Uguf6kJdlxp_"
      },
      "source": [
        "#### 1.1. Operations with numbers:"
      ]
    },
    {
      "cell_type": "code",
      "execution_count": 1,
      "metadata": {
        "id": "Wco6irCblxp_",
        "colab": {
          "base_uri": "https://localhost:8080/"
        },
        "outputId": "a8e67cdb-d5cf-4a10-8b9a-016e5df4ed71"
      },
      "outputs": [
        {
          "output_type": "execute_result",
          "data": {
            "text/plain": [
              "2"
            ]
          },
          "metadata": {},
          "execution_count": 1
        }
      ],
      "source": [
        "1+1"
      ]
    },
    {
      "cell_type": "code",
      "execution_count": 2,
      "metadata": {
        "id": "riMpyMR6lxqA",
        "colab": {
          "base_uri": "https://localhost:8080/"
        },
        "outputId": "5179ad4e-5c2b-445d-c7bb-93239b73a61e"
      },
      "outputs": [
        {
          "output_type": "execute_result",
          "data": {
            "text/plain": [
              "8"
            ]
          },
          "metadata": {},
          "execution_count": 2
        }
      ],
      "source": [
        "2**3"
      ]
    },
    {
      "cell_type": "code",
      "execution_count": 3,
      "metadata": {
        "id": "oQds71DNlxqA",
        "colab": {
          "base_uri": "https://localhost:8080/"
        },
        "outputId": "1c2ba3da-e79f-4e0a-9871-281005b679bd"
      },
      "outputs": [
        {
          "output_type": "execute_result",
          "data": {
            "text/plain": [
              "3"
            ]
          },
          "metadata": {},
          "execution_count": 3
        }
      ],
      "source": [
        "8%5"
      ]
    },
    {
      "cell_type": "code",
      "execution_count": 4,
      "metadata": {
        "id": "VifYogXXlxqA",
        "colab": {
          "base_uri": "https://localhost:8080/"
        },
        "outputId": "39753e0c-a55a-418a-a136-1af938b8dffa"
      },
      "outputs": [
        {
          "output_type": "execute_result",
          "data": {
            "text/plain": [
              "1.0"
            ]
          },
          "metadata": {},
          "execution_count": 4
        }
      ],
      "source": [
        "8.0//5.0"
      ]
    },
    {
      "cell_type": "markdown",
      "metadata": {
        "id": "keVpBAwnlxqA"
      },
      "source": [
        "### 2. String:"
      ]
    },
    {
      "cell_type": "markdown",
      "metadata": {
        "id": "equXUpCdlxqB"
      },
      "source": [
        "#### 2.1. Basics:"
      ]
    },
    {
      "cell_type": "code",
      "execution_count": 5,
      "metadata": {
        "id": "VVV7QB4WlxqB",
        "colab": {
          "base_uri": "https://localhost:8080/"
        },
        "outputId": "b3bd122c-6b30-4dff-911a-a9956253a32e"
      },
      "outputs": [
        {
          "output_type": "stream",
          "name": "stdout",
          "text": [
            "He said, 'Python is very easy'\n",
            "He said, \"Python is very easy\"\n"
          ]
        }
      ],
      "source": [
        "# A quote within another quote.\n",
        "print(\"He said, 'Python is very easy'\")\n",
        "print('He said, \"Python is very easy\"')"
      ]
    },
    {
      "cell_type": "code",
      "execution_count": 6,
      "metadata": {
        "id": "JTAvSFD2lxqB",
        "colab": {
          "base_uri": "https://localhost:8080/"
        },
        "outputId": "a3b10930-df70-4118-8a24-facdc041e5c3"
      },
      "outputs": [
        {
          "output_type": "stream",
          "name": "stdout",
          "text": [
            "Hello !!!\n",
            "my\n",
            "name\n",
            "is\n",
            "Python.\n"
          ]
        }
      ],
      "source": [
        "# Multi-line string.\n",
        "my_string = \"\"\"Hello !!!\n",
        "my\n",
        "name\n",
        "is\n",
        "Python.\"\"\"\n",
        "print(my_string)"
      ]
    },
    {
      "cell_type": "markdown",
      "metadata": {
        "id": "s9kNO2szlxqB"
      },
      "source": [
        "#### 2.2. Operations with strings:"
      ]
    },
    {
      "cell_type": "code",
      "execution_count": 7,
      "metadata": {
        "id": "heyZWDw2lxqC",
        "colab": {
          "base_uri": "https://localhost:8080/"
        },
        "outputId": "6925d399-2c33-4d34-a0da-5f370d34b05e"
      },
      "outputs": [
        {
          "output_type": "stream",
          "name": "stdout",
          "text": [
            "First string. Second string.\n"
          ]
        }
      ],
      "source": [
        "str1 = 'First string. '\n",
        "str2 = 'Second string.'\n",
        "print(str1 + str2)"
      ]
    },
    {
      "cell_type": "code",
      "execution_count": 8,
      "metadata": {
        "id": "AwDW6QnOlxqC",
        "colab": {
          "base_uri": "https://localhost:8080/"
        },
        "outputId": "15e2a6d7-2e93-4c1a-ff68-fdc3a9a5c8c4"
      },
      "outputs": [
        {
          "output_type": "stream",
          "name": "stdout",
          "text": [
            "Python. Python. Python. Python. Python. \n"
          ]
        }
      ],
      "source": [
        "str = 'Python. '\n",
        "print(str*5)"
      ]
    },
    {
      "cell_type": "markdown",
      "metadata": {
        "id": "-g6T7ACmlxqC"
      },
      "source": [
        "#### 2.3. Indexing and slilcing strings:"
      ]
    },
    {
      "cell_type": "code",
      "execution_count": 9,
      "metadata": {
        "id": "HdCEfGkVlxqC",
        "colab": {
          "base_uri": "https://localhost:8080/"
        },
        "outputId": "fe158c28-25b3-43ab-db09-ac23d524b5f9"
      },
      "outputs": [
        {
          "output_type": "stream",
          "name": "stdout",
          "text": [
            "L\n",
            "!\n",
            "Life\n",
            "is too short, You need Python!\n"
          ]
        }
      ],
      "source": [
        "str = 'Life is too short, You need Python!'\n",
        "print(str[0])\n",
        "print(str[-1])\n",
        "print(str[0:4])\n",
        "print(str[5:])"
      ]
    },
    {
      "cell_type": "markdown",
      "metadata": {
        "id": "Ig4Zc034lxqC"
      },
      "source": [
        "#### 2.4. Functions and methods for string objects:"
      ]
    },
    {
      "cell_type": "code",
      "execution_count": 10,
      "metadata": {
        "id": "ULLbDzSmlxqC",
        "colab": {
          "base_uri": "https://localhost:8080/"
        },
        "outputId": "d103aa27-801c-4da7-ccce-b40c81e38c3a"
      },
      "outputs": [
        {
          "output_type": "stream",
          "name": "stdout",
          "text": [
            "6\n"
          ]
        }
      ],
      "source": [
        "x = 'Python'\n",
        "print(len(x))"
      ]
    },
    {
      "cell_type": "code",
      "execution_count": 11,
      "metadata": {
        "id": "wJZ2pJ4RlxqC",
        "colab": {
          "base_uri": "https://localhost:8080/"
        },
        "outputId": "22f9cded-2adc-41d8-a7ce-10cd5b165cf7"
      },
      "outputs": [
        {
          "output_type": "execute_result",
          "data": {
            "text/plain": [
              "1"
            ]
          },
          "metadata": {},
          "execution_count": 11
        }
      ],
      "source": [
        "x.count('h')"
      ]
    },
    {
      "cell_type": "code",
      "execution_count": 12,
      "metadata": {
        "id": "PJ7RZYJmlxqC",
        "colab": {
          "base_uri": "https://localhost:8080/",
          "height": 36
        },
        "outputId": "83b30c7b-cef3-4290-9f5b-949ad101c11f"
      },
      "outputs": [
        {
          "output_type": "execute_result",
          "data": {
            "text/plain": [
              "'PYTHON'"
            ],
            "application/vnd.google.colaboratory.intrinsic+json": {
              "type": "string"
            }
          },
          "metadata": {},
          "execution_count": 12
        }
      ],
      "source": [
        "x.upper()"
      ]
    },
    {
      "cell_type": "code",
      "execution_count": 13,
      "metadata": {
        "id": "EHq7jdwLlxqC",
        "colab": {
          "base_uri": "https://localhost:8080/",
          "height": 36
        },
        "outputId": "818b68f0-8cfa-432a-8715-dc9a74d1e0ae"
      },
      "outputs": [
        {
          "output_type": "execute_result",
          "data": {
            "text/plain": [
              "'python'"
            ],
            "application/vnd.google.colaboratory.intrinsic+json": {
              "type": "string"
            }
          },
          "metadata": {},
          "execution_count": 13
        }
      ],
      "source": [
        "x.lower()"
      ]
    },
    {
      "cell_type": "code",
      "execution_count": 14,
      "metadata": {
        "id": "sbFROxVllxqC",
        "colab": {
          "base_uri": "https://localhost:8080/"
        },
        "outputId": "669364b0-9fb4-41a6-931d-7e6d957021c4"
      },
      "outputs": [
        {
          "output_type": "execute_result",
          "data": {
            "text/plain": [
              "4"
            ]
          },
          "metadata": {},
          "execution_count": 14
        }
      ],
      "source": [
        "x.find('o')"
      ]
    },
    {
      "cell_type": "code",
      "execution_count": 15,
      "metadata": {
        "id": "FOlT5hNUlxqC",
        "colab": {
          "base_uri": "https://localhost:8080/"
        },
        "outputId": "af4963d3-a78a-4765-d311-6ffbcb495cbc"
      },
      "outputs": [
        {
          "output_type": "execute_result",
          "data": {
            "text/plain": [
              "-1"
            ]
          },
          "metadata": {},
          "execution_count": 15
        }
      ],
      "source": [
        "x.find('w')"
      ]
    },
    {
      "cell_type": "code",
      "execution_count": 16,
      "metadata": {
        "id": "wH6S5xJUlxqC",
        "colab": {
          "base_uri": "https://localhost:8080/"
        },
        "outputId": "c50516d6-882e-41f5-b32f-6b5e97e72d6c"
      },
      "outputs": [
        {
          "output_type": "execute_result",
          "data": {
            "text/plain": [
              "4"
            ]
          },
          "metadata": {},
          "execution_count": 16
        }
      ],
      "source": [
        "x.index('o')"
      ]
    },
    {
      "cell_type": "code",
      "execution_count": 17,
      "metadata": {
        "id": "QwS36-FjlxqC"
      },
      "outputs": [],
      "source": []
    },
    {
      "cell_type": "code",
      "execution_count": 18,
      "metadata": {
        "id": "YJDIqFoClxqC"
      },
      "outputs": [],
      "source": [
        "x = 'Life is too short, You need Python!'"
      ]
    },
    {
      "cell_type": "code",
      "execution_count": 19,
      "metadata": {
        "id": "IZql5XZjlxqD",
        "colab": {
          "base_uri": "https://localhost:8080/"
        },
        "outputId": "35b17514-d314-4bf5-b6c9-a9b26d10c535"
      },
      "outputs": [
        {
          "output_type": "execute_result",
          "data": {
            "text/plain": [
              "['Life', 'is', 'too', 'short,', 'You', 'need', 'Python!']"
            ]
          },
          "metadata": {},
          "execution_count": 19
        }
      ],
      "source": [
        "x.split(' ')"
      ]
    },
    {
      "cell_type": "code",
      "execution_count": 20,
      "metadata": {
        "id": "mcM-8sEVlxqD",
        "colab": {
          "base_uri": "https://localhost:8080/"
        },
        "outputId": "0c3c11c4-89cb-4062-a772-04a73b8a1c23"
      },
      "outputs": [
        {
          "output_type": "stream",
          "name": "stdout",
          "text": [
            "Life is too short, You need Python!\n"
          ]
        }
      ],
      "source": [
        "y = x.split(' ')\n",
        "a = ' '\n",
        "print(a.join(y))"
      ]
    },
    {
      "cell_type": "markdown",
      "metadata": {
        "id": "cxdmpxdLlxqD"
      },
      "source": [
        "### 3. Boolean:"
      ]
    },
    {
      "cell_type": "markdown",
      "metadata": {
        "id": "YLRG6rvBlxqD"
      },
      "source": [
        "#### 3.1. Operations with Booleans:"
      ]
    },
    {
      "cell_type": "markdown",
      "metadata": {
        "id": "5caUSKDIlxqD"
      },
      "source": [
        "AND operator:"
      ]
    },
    {
      "cell_type": "code",
      "execution_count": 21,
      "metadata": {
        "id": "WMQb37XVlxqD",
        "colab": {
          "base_uri": "https://localhost:8080/"
        },
        "outputId": "ded0e97c-8400-401c-80dc-f8988151856e"
      },
      "outputs": [
        {
          "output_type": "execute_result",
          "data": {
            "text/plain": [
              "False"
            ]
          },
          "metadata": {},
          "execution_count": 21
        }
      ],
      "source": [
        "False and False"
      ]
    },
    {
      "cell_type": "code",
      "execution_count": 22,
      "metadata": {
        "id": "IZiyhHMZlxqD",
        "colab": {
          "base_uri": "https://localhost:8080/"
        },
        "outputId": "63f37a5f-1c8d-4c4e-a71c-92bc1e084cba"
      },
      "outputs": [
        {
          "output_type": "execute_result",
          "data": {
            "text/plain": [
              "False"
            ]
          },
          "metadata": {},
          "execution_count": 22
        }
      ],
      "source": [
        "False and True"
      ]
    },
    {
      "cell_type": "code",
      "execution_count": 23,
      "metadata": {
        "id": "FBYIvfF0lxqD",
        "colab": {
          "base_uri": "https://localhost:8080/"
        },
        "outputId": "d57f76ca-519a-4df9-c5e4-a5a777e4c9da"
      },
      "outputs": [
        {
          "output_type": "execute_result",
          "data": {
            "text/plain": [
              "False"
            ]
          },
          "metadata": {},
          "execution_count": 23
        }
      ],
      "source": [
        "True and False"
      ]
    },
    {
      "cell_type": "code",
      "execution_count": 24,
      "metadata": {
        "id": "8iruntGjlxqD",
        "colab": {
          "base_uri": "https://localhost:8080/"
        },
        "outputId": "3894aef0-d49e-4392-88d3-5c8ac262834f"
      },
      "outputs": [
        {
          "output_type": "execute_result",
          "data": {
            "text/plain": [
              "True"
            ]
          },
          "metadata": {},
          "execution_count": 24
        }
      ],
      "source": [
        "True and True"
      ]
    },
    {
      "cell_type": "code",
      "execution_count": 25,
      "metadata": {
        "id": "hBXol5J-lxqD",
        "colab": {
          "base_uri": "https://localhost:8080/"
        },
        "outputId": "2e276984-4096-49d0-8e1c-96628793ebd5"
      },
      "outputs": [
        {
          "output_type": "execute_result",
          "data": {
            "text/plain": [
              "False"
            ]
          },
          "metadata": {},
          "execution_count": 25
        }
      ],
      "source": [
        "(3 > 2) and (5 < 4)"
      ]
    },
    {
      "cell_type": "code",
      "execution_count": 26,
      "metadata": {
        "id": "o0EDEkmwlxqD",
        "colab": {
          "base_uri": "https://localhost:8080/"
        },
        "outputId": "6ef5689a-9d80-4a6d-f2c5-4a11d9a66df0"
      },
      "outputs": [
        {
          "output_type": "execute_result",
          "data": {
            "text/plain": [
              "True"
            ]
          },
          "metadata": {},
          "execution_count": 26
        }
      ],
      "source": [
        "(3 > 2) and (5 > 4)"
      ]
    },
    {
      "cell_type": "markdown",
      "metadata": {
        "id": "bPOp5EeJlxqD"
      },
      "source": [
        "OR operator:"
      ]
    },
    {
      "cell_type": "code",
      "execution_count": 27,
      "metadata": {
        "id": "Ez5_s_uvlxqD",
        "colab": {
          "base_uri": "https://localhost:8080/"
        },
        "outputId": "c0686c94-a46a-45cb-f708-3606381bc2e5"
      },
      "outputs": [
        {
          "output_type": "execute_result",
          "data": {
            "text/plain": [
              "False"
            ]
          },
          "metadata": {},
          "execution_count": 27
        }
      ],
      "source": [
        "False or False"
      ]
    },
    {
      "cell_type": "code",
      "execution_count": 28,
      "metadata": {
        "id": "qo_JorHwlxqG",
        "colab": {
          "base_uri": "https://localhost:8080/"
        },
        "outputId": "982f6146-891d-4e20-9670-f3418296f127"
      },
      "outputs": [
        {
          "output_type": "execute_result",
          "data": {
            "text/plain": [
              "True"
            ]
          },
          "metadata": {},
          "execution_count": 28
        }
      ],
      "source": [
        "True or False"
      ]
    },
    {
      "cell_type": "code",
      "execution_count": 29,
      "metadata": {
        "id": "Bpm7EdJelxqG",
        "colab": {
          "base_uri": "https://localhost:8080/"
        },
        "outputId": "b6c133ff-72bb-49d1-eb52-0d605a5b7afc"
      },
      "outputs": [
        {
          "output_type": "execute_result",
          "data": {
            "text/plain": [
              "True"
            ]
          },
          "metadata": {},
          "execution_count": 29
        }
      ],
      "source": [
        "False or True"
      ]
    },
    {
      "cell_type": "code",
      "execution_count": 30,
      "metadata": {
        "id": "oWR04Hj0lxqG",
        "colab": {
          "base_uri": "https://localhost:8080/"
        },
        "outputId": "60095057-0dfe-4b09-8be3-07ac1137fc46"
      },
      "outputs": [
        {
          "output_type": "execute_result",
          "data": {
            "text/plain": [
              "True"
            ]
          },
          "metadata": {},
          "execution_count": 30
        }
      ],
      "source": [
        "False or True"
      ]
    },
    {
      "cell_type": "code",
      "execution_count": 31,
      "metadata": {
        "id": "dTty8rvSlxqG",
        "colab": {
          "base_uri": "https://localhost:8080/"
        },
        "outputId": "ad1c9a04-7dc7-4aa0-d9b4-bddc90c6604b"
      },
      "outputs": [
        {
          "output_type": "execute_result",
          "data": {
            "text/plain": [
              "True"
            ]
          },
          "metadata": {},
          "execution_count": 31
        }
      ],
      "source": [
        "True or True"
      ]
    },
    {
      "cell_type": "markdown",
      "metadata": {
        "id": "DSsDDG4plxqG"
      },
      "source": [
        "NOT operator:"
      ]
    },
    {
      "cell_type": "code",
      "execution_count": 32,
      "metadata": {
        "id": "Y3XiO07ulxqG",
        "colab": {
          "base_uri": "https://localhost:8080/"
        },
        "outputId": "cfca64a3-0898-4b0b-9ba8-8845896b6a18"
      },
      "outputs": [
        {
          "output_type": "execute_result",
          "data": {
            "text/plain": [
              "False"
            ]
          },
          "metadata": {},
          "execution_count": 32
        }
      ],
      "source": [
        "not True"
      ]
    },
    {
      "cell_type": "code",
      "execution_count": 33,
      "metadata": {
        "id": "GjP2G56ilxqG",
        "colab": {
          "base_uri": "https://localhost:8080/"
        },
        "outputId": "1ee5f7ce-30cf-4e18-ba2e-0ffb9cc03e84"
      },
      "outputs": [
        {
          "output_type": "execute_result",
          "data": {
            "text/plain": [
              "True"
            ]
          },
          "metadata": {},
          "execution_count": 33
        }
      ],
      "source": [
        "not False"
      ]
    },
    {
      "cell_type": "code",
      "execution_count": 34,
      "metadata": {
        "id": "TvgKmqe9lxqG",
        "colab": {
          "base_uri": "https://localhost:8080/"
        },
        "outputId": "f1077640-e976-4789-c6e3-33b0cff6ef63"
      },
      "outputs": [
        {
          "output_type": "execute_result",
          "data": {
            "text/plain": [
              "False"
            ]
          },
          "metadata": {},
          "execution_count": 34
        }
      ],
      "source": [
        "not (4 > 2)"
      ]
    },
    {
      "cell_type": "code",
      "execution_count": 35,
      "metadata": {
        "id": "BqpYUH8HlxqG",
        "colab": {
          "base_uri": "https://localhost:8080/"
        },
        "outputId": "17087c82-ca25-43a9-8da5-be560b1c8af9"
      },
      "outputs": [
        {
          "output_type": "execute_result",
          "data": {
            "text/plain": [
              "True"
            ]
          },
          "metadata": {},
          "execution_count": 35
        }
      ],
      "source": [
        "not (4 < 2)"
      ]
    },
    {
      "cell_type": "markdown",
      "metadata": {
        "id": "Yvdf3h-ilxqG"
      },
      "source": [
        "#### 3.2. Implicit Boolean:"
      ]
    },
    {
      "cell_type": "code",
      "execution_count": 36,
      "metadata": {
        "id": "twzm7Eh2lxqG"
      },
      "outputs": [],
      "source": [
        "x = []\n",
        "y = [1,2,3]"
      ]
    },
    {
      "cell_type": "code",
      "execution_count": 37,
      "metadata": {
        "id": "KjjYpUYUlxqG",
        "colab": {
          "base_uri": "https://localhost:8080/"
        },
        "outputId": "886e1d39-d0d8-49c7-a74b-ab0f303e6946"
      },
      "outputs": [
        {
          "output_type": "stream",
          "name": "stdout",
          "text": [
            "Empty!\n"
          ]
        }
      ],
      "source": [
        "if x:\n",
        "    print('Not empty.')\n",
        "else:\n",
        "    print('Empty!')"
      ]
    },
    {
      "cell_type": "code",
      "execution_count": 38,
      "metadata": {
        "id": "ZyPWAYAWlxqH",
        "colab": {
          "base_uri": "https://localhost:8080/"
        },
        "outputId": "0153f9ae-0954-43a2-be90-d1296b12685c"
      },
      "outputs": [
        {
          "output_type": "stream",
          "name": "stdout",
          "text": [
            "Not empty.\n"
          ]
        }
      ],
      "source": [
        "if y:\n",
        "    print('Not empty.')\n",
        "else:\n",
        "    print('Empty!')"
      ]
    },
    {
      "cell_type": "code",
      "execution_count": null,
      "metadata": {
        "id": "PVkRYtMmlxqH"
      },
      "outputs": [],
      "source": []
    }
  ],
  "metadata": {
    "kernelspec": {
      "display_name": "Python 3",
      "language": "python",
      "name": "python3"
    },
    "language_info": {
      "codemirror_mode": {
        "name": "ipython",
        "version": 3
      },
      "file_extension": ".py",
      "mimetype": "text/x-python",
      "name": "python",
      "nbconvert_exporter": "python",
      "pygments_lexer": "ipython3",
      "version": "3.7.3"
    },
    "colab": {
      "provenance": [],
      "include_colab_link": true
    }
  },
  "nbformat": 4,
  "nbformat_minor": 0
}
