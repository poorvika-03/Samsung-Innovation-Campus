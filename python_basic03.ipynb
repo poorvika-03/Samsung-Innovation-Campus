{
  "cells": [
    {
      "cell_type": "markdown",
      "metadata": {
        "id": "view-in-github",
        "colab_type": "text"
      },
      "source": [
        "<a href=\"https://colab.research.google.com/github/poorvika-03/Samsung-Innovation-Campus/blob/main/python_basic03.ipynb\" target=\"_parent\"><img src=\"https://colab.research.google.com/assets/colab-badge.svg\" alt=\"Open In Colab\"/></a>"
      ]
    },
    {
      "cell_type": "markdown",
      "metadata": {
        "id": "AU1EyDPzmWum"
      },
      "source": [
        "## Coding Exercise #0103"
      ]
    },
    {
      "cell_type": "markdown",
      "metadata": {
        "id": "pwTb6m6rmWun"
      },
      "source": [
        "### 1. List:"
      ]
    },
    {
      "cell_type": "markdown",
      "metadata": {
        "id": "QdBatOWjmWuo"
      },
      "source": [
        "#### 1.1. Creating lists:"
      ]
    },
    {
      "cell_type": "code",
      "execution_count": null,
      "metadata": {
        "id": "Qyv1yS35mWuo",
        "outputId": "68349e0a-2fb6-48dd-9a7a-8cefbf58af3c",
        "colab": {
          "base_uri": "https://localhost:8080/"
        }
      },
      "outputs": [
        {
          "output_type": "execute_result",
          "data": {
            "text/plain": [
              "list"
            ]
          },
          "metadata": {},
          "execution_count": 1
        }
      ],
      "source": [
        "x = [1, 3, True, False, 'Hello', [3,5,7]]\n",
        "type(x)"
      ]
    },
    {
      "cell_type": "code",
      "execution_count": null,
      "metadata": {
        "id": "oiyh_k63mWup",
        "outputId": "40a64008-9ffe-4d91-c635-088181e55c45",
        "colab": {
          "base_uri": "https://localhost:8080/"
        }
      },
      "outputs": [
        {
          "output_type": "execute_result",
          "data": {
            "text/plain": [
              "range(1, 5)"
            ]
          },
          "metadata": {},
          "execution_count": 3
        }
      ],
      "source": [
        "# A range.\n",
        "range(1,5)"
      ]
    },
    {
      "cell_type": "code",
      "execution_count": null,
      "metadata": {
        "id": "cwzjCJPomWup",
        "outputId": "8c0723f0-1d34-469f-f8b2-fc8217c2fa5f",
        "colab": {
          "base_uri": "https://localhost:8080/"
        }
      },
      "outputs": [
        {
          "output_type": "execute_result",
          "data": {
            "text/plain": [
              "[1, 2, 3, 4]"
            ]
          },
          "metadata": {},
          "execution_count": 2
        }
      ],
      "source": [
        "# A range cast as list.\n",
        "x = list(range(1,5))\n",
        "x"
      ]
    },
    {
      "cell_type": "code",
      "execution_count": null,
      "metadata": {
        "id": "Kt_VrNklmWup",
        "outputId": "35fbb47c-05ac-4598-8dac-59c7100ccc85",
        "colab": {
          "base_uri": "https://localhost:8080/"
        }
      },
      "outputs": [
        {
          "output_type": "execute_result",
          "data": {
            "text/plain": [
              "[1, 3, 5, 7, 9]"
            ]
          },
          "metadata": {},
          "execution_count": 4
        }
      ],
      "source": [
        "list(range(1,10,2))"
      ]
    },
    {
      "cell_type": "code",
      "execution_count": null,
      "metadata": {
        "id": "iFb3NfyJmWup",
        "outputId": "21074095-81ac-4472-931f-dad1c450df7c",
        "colab": {
          "base_uri": "https://localhost:8080/"
        }
      },
      "outputs": [
        {
          "output_type": "execute_result",
          "data": {
            "text/plain": [
              "[0, 5, 10, 15, 20]"
            ]
          },
          "metadata": {},
          "execution_count": 5
        }
      ],
      "source": [
        "list(range(0,21,5))"
      ]
    },
    {
      "cell_type": "markdown",
      "metadata": {
        "id": "Ljnz5AK2mWuq"
      },
      "source": [
        "#### 1.2. Indexing and slicing lists:"
      ]
    },
    {
      "cell_type": "code",
      "execution_count": null,
      "metadata": {
        "id": "voInDxTnmWuq",
        "outputId": "f680fe5e-a419-40f6-b546-c06b63fa4f3e",
        "colab": {
          "base_uri": "https://localhost:8080/"
        }
      },
      "outputs": [
        {
          "output_type": "execute_result",
          "data": {
            "text/plain": [
              "2"
            ]
          },
          "metadata": {},
          "execution_count": 9
        }
      ],
      "source": [
        "x = [1, 2, ['Life', 'is']]\n",
        "x[1]"
      ]
    },
    {
      "cell_type": "code",
      "execution_count": null,
      "metadata": {
        "id": "tJeC_xH_mWuq",
        "outputId": "353ce418-0a8b-42fd-cca5-5e64be1b73ee",
        "colab": {
          "base_uri": "https://localhost:8080/"
        }
      },
      "outputs": [
        {
          "output_type": "execute_result",
          "data": {
            "text/plain": [
              "3"
            ]
          },
          "metadata": {},
          "execution_count": 6
        }
      ],
      "source": [
        "x[2]"
      ]
    },
    {
      "cell_type": "code",
      "execution_count": null,
      "metadata": {
        "id": "UuvVU61VmWuq"
      },
      "outputs": [],
      "source": []
    },
    {
      "cell_type": "code",
      "execution_count": null,
      "metadata": {
        "id": "BG5bzcAHmWuq",
        "outputId": "b8506ae2-4127-4722-c314-5822eaf4eb52",
        "colab": {
          "base_uri": "https://localhost:8080/"
        }
      },
      "outputs": [
        {
          "output_type": "execute_result",
          "data": {
            "text/plain": [
              "[3, ['a', 'b', 'c'], 4]"
            ]
          },
          "metadata": {},
          "execution_count": 10
        }
      ],
      "source": [
        "x = [1, 2, 3, ['a', 'b', 'c'], 4, 5]\n",
        "x[2:5]"
      ]
    },
    {
      "cell_type": "code",
      "execution_count": null,
      "metadata": {
        "id": "Ouxa5r0smWuq",
        "outputId": "08b74a18-1d10-4a77-d385-93c12351aa7a",
        "colab": {
          "base_uri": "https://localhost:8080/"
        }
      },
      "outputs": [
        {
          "output_type": "execute_result",
          "data": {
            "text/plain": [
              "['a', 'b']"
            ]
          },
          "metadata": {},
          "execution_count": 11
        }
      ],
      "source": [
        "x[3][:2]"
      ]
    },
    {
      "cell_type": "markdown",
      "metadata": {
        "id": "_UNL21FLmWuq"
      },
      "source": [
        "#### 1.3. Operations with lists:"
      ]
    },
    {
      "cell_type": "code",
      "execution_count": null,
      "metadata": {
        "id": "RM4fOWpZmWuq",
        "outputId": "38440576-e31e-4739-a90c-e8f6b24d645c",
        "colab": {
          "base_uri": "https://localhost:8080/"
        }
      },
      "outputs": [
        {
          "output_type": "execute_result",
          "data": {
            "text/plain": [
              "[1, 2, 3, 4, 5, 6]"
            ]
          },
          "metadata": {},
          "execution_count": 12
        }
      ],
      "source": [
        "a = [1, 2, 3]\n",
        "b = [4, 5, 6]\n",
        "a + b"
      ]
    },
    {
      "cell_type": "code",
      "execution_count": null,
      "metadata": {
        "id": "nICN0WlbmWur",
        "outputId": "5a1cb12c-bf5e-40a8-ce97-9b5978995366",
        "colab": {
          "base_uri": "https://localhost:8080/"
        }
      },
      "outputs": [
        {
          "output_type": "execute_result",
          "data": {
            "text/plain": [
              "[1, 2, 3, 1, 2, 3, 1, 2, 3]"
            ]
          },
          "metadata": {},
          "execution_count": 13
        }
      ],
      "source": [
        "x = [1, 2, 3]\n",
        "x*3"
      ]
    },
    {
      "cell_type": "markdown",
      "metadata": {
        "id": "uldeyqpvmWur"
      },
      "source": [
        "#### 1.4. Changing list content:"
      ]
    },
    {
      "cell_type": "code",
      "execution_count": null,
      "metadata": {
        "id": "phDNyvl-mWur",
        "outputId": "b5d7a7e2-e6b9-4d36-9029-6c6dad6cdef4",
        "colab": {
          "base_uri": "https://localhost:8080/"
        }
      },
      "outputs": [
        {
          "output_type": "execute_result",
          "data": {
            "text/plain": [
              "[1, -1, 3]"
            ]
          },
          "metadata": {},
          "execution_count": 14
        }
      ],
      "source": [
        "x = [1, 2, 3]\n",
        "x[1] = -1\n",
        "x"
      ]
    },
    {
      "cell_type": "code",
      "execution_count": null,
      "metadata": {
        "id": "6DGLHck8mWur",
        "outputId": "792c773c-9da2-4892-b27a-ff1b81e79a03",
        "colab": {
          "base_uri": "https://localhost:8080/"
        }
      },
      "outputs": [
        {
          "output_type": "execute_result",
          "data": {
            "text/plain": [
              "[1, 3, 5, 7, 9, 11]"
            ]
          },
          "metadata": {},
          "execution_count": 15
        }
      ],
      "source": [
        "x[1:3] = [3, 5, 7, 9, 11]\n",
        "x"
      ]
    },
    {
      "cell_type": "markdown",
      "metadata": {
        "id": "jtNTEl5vmWur"
      },
      "source": [
        "Let's carefully distinguish the following cases:"
      ]
    },
    {
      "cell_type": "code",
      "execution_count": null,
      "metadata": {
        "id": "oOXVf-lSmWur",
        "outputId": "760a23c6-02d5-4c5e-ab88-ba327fc49488",
        "colab": {
          "base_uri": "https://localhost:8080/"
        }
      },
      "outputs": [
        {
          "output_type": "execute_result",
          "data": {
            "text/plain": [
              "[1, -1, -2, -3, 3]"
            ]
          },
          "metadata": {},
          "execution_count": 16
        }
      ],
      "source": [
        "# Replace part of a list.\n",
        "x = [1, 2, 3]\n",
        "x[1:2] = [-1, -2, -3]\n",
        "x"
      ]
    },
    {
      "cell_type": "code",
      "execution_count": null,
      "metadata": {
        "id": "8eZZCUEgmWur",
        "outputId": "ff05aa3b-d137-4828-bdd2-ff47868e873c",
        "colab": {
          "base_uri": "https://localhost:8080/"
        }
      },
      "outputs": [
        {
          "output_type": "execute_result",
          "data": {
            "text/plain": [
              "[1, [-1, -2, -3], 3]"
            ]
          },
          "metadata": {},
          "execution_count": 17
        }
      ],
      "source": [
        "# List a particular element of the list.\n",
        "x = [1, 2, 3]\n",
        "x[1] = [-1, -2, -3]\n",
        "x"
      ]
    },
    {
      "cell_type": "markdown",
      "metadata": {
        "id": "PKdOYYQHmWur"
      },
      "source": [
        "#### 1.5. Deleting part of a list:"
      ]
    },
    {
      "cell_type": "code",
      "execution_count": null,
      "metadata": {
        "id": "NpqKD0xhmWur",
        "outputId": "ece4106f-f8b1-4dbc-f339-87b9479938ea",
        "colab": {
          "base_uri": "https://localhost:8080/"
        }
      },
      "outputs": [
        {
          "output_type": "execute_result",
          "data": {
            "text/plain": [
              "[1, 4, 5]"
            ]
          },
          "metadata": {},
          "execution_count": 18
        }
      ],
      "source": [
        "x = [1, 2, 3, 4, 5]\n",
        "x[1:3] = []\n",
        "x"
      ]
    },
    {
      "cell_type": "code",
      "execution_count": null,
      "metadata": {
        "id": "N6ljxbCQmWur",
        "outputId": "c01c7260-86b5-45ab-c557-fcc1995545c8",
        "colab": {
          "base_uri": "https://localhost:8080/"
        }
      },
      "outputs": [
        {
          "output_type": "execute_result",
          "data": {
            "text/plain": [
              "[1, 2, 4, 5]"
            ]
          },
          "metadata": {},
          "execution_count": 19
        }
      ],
      "source": [
        "x = [1, 2, 3, 4, 5]\n",
        "del x[2]\n",
        "x"
      ]
    },
    {
      "cell_type": "markdown",
      "metadata": {
        "id": "45T0Ms0rmWur"
      },
      "source": [
        "#### 1.6. Functions and methods for list objects:"
      ]
    },
    {
      "cell_type": "code",
      "execution_count": null,
      "metadata": {
        "id": "-lNXZA2xmWur",
        "outputId": "cb058986-62e8-45b7-dd16-c46fc72b8f3a",
        "colab": {
          "base_uri": "https://localhost:8080/"
        }
      },
      "outputs": [
        {
          "output_type": "execute_result",
          "data": {
            "text/plain": [
              "5"
            ]
          },
          "metadata": {},
          "execution_count": 20
        }
      ],
      "source": [
        "x = [2,4,6,8,10]\n",
        "len(x)"
      ]
    },
    {
      "cell_type": "code",
      "execution_count": null,
      "metadata": {
        "id": "YYk9abdEmWur",
        "outputId": "de5ed399-af9b-4e17-b3f6-2670886e96ce",
        "colab": {
          "base_uri": "https://localhost:8080/"
        }
      },
      "outputs": [
        {
          "output_type": "execute_result",
          "data": {
            "text/plain": [
              "[1, 2, 3, 4, [5, 6]]"
            ]
          },
          "metadata": {},
          "execution_count": 21
        }
      ],
      "source": [
        "x = [1, 2, 3]\n",
        "x.append(4)\n",
        "x.append([5,6])\n",
        "x"
      ]
    },
    {
      "cell_type": "code",
      "execution_count": null,
      "metadata": {
        "id": "Pnl-mrj0mWur",
        "outputId": "1bce616e-dbad-48c2-8908-62fb9cee7a07",
        "colab": {
          "base_uri": "https://localhost:8080/"
        }
      },
      "outputs": [
        {
          "output_type": "execute_result",
          "data": {
            "text/plain": [
              "[5, 4, 3, 2, 1]"
            ]
          },
          "metadata": {},
          "execution_count": 22
        }
      ],
      "source": [
        "x = [1, 2, 3, 4, 5]\n",
        "x.reverse()\n",
        "x"
      ]
    },
    {
      "cell_type": "code",
      "execution_count": null,
      "metadata": {
        "id": "wB3KWzJBmWur",
        "outputId": "c6765d7e-b6ea-4387-9311-e2d8edd602f1",
        "colab": {
          "base_uri": "https://localhost:8080/"
        }
      },
      "outputs": [
        {
          "output_type": "execute_result",
          "data": {
            "text/plain": [
              "[1, 2, 3, 4, 5]"
            ]
          },
          "metadata": {},
          "execution_count": 23
        }
      ],
      "source": [
        "# The sort() method changes the list permanently.\n",
        "x = [3, 1, 5, 2, 4]\n",
        "x.sort()\n",
        "x"
      ]
    },
    {
      "cell_type": "code",
      "execution_count": null,
      "metadata": {
        "id": "P6JqgDLBmWur",
        "outputId": "c84b0990-abb7-44c2-ff9a-4b5b82d3f2f1",
        "colab": {
          "base_uri": "https://localhost:8080/"
        }
      },
      "outputs": [
        {
          "output_type": "execute_result",
          "data": {
            "text/plain": [
              "[5, 4, 3, 2, 1]"
            ]
          },
          "metadata": {},
          "execution_count": 24
        }
      ],
      "source": [
        "x = [3, 1, 5, 2, 4]\n",
        "x.sort(reverse=True)\n",
        "x"
      ]
    },
    {
      "cell_type": "code",
      "execution_count": null,
      "metadata": {
        "id": "pEZYbShemWus",
        "outputId": "7693eb84-aa9a-4698-e9f8-329ac11c0460",
        "colab": {
          "base_uri": "https://localhost:8080/"
        }
      },
      "outputs": [
        {
          "output_type": "execute_result",
          "data": {
            "text/plain": [
              "[1, 2, 3, 4, 5]"
            ]
          },
          "metadata": {},
          "execution_count": 25
        }
      ],
      "source": [
        "# The function sorted() just returns a view without changing the list permanently.\n",
        "x = [3, 1, 5, 2, 4]\n",
        "sorted(x)"
      ]
    },
    {
      "cell_type": "code",
      "execution_count": null,
      "metadata": {
        "id": "Cetdn6WcmWus",
        "outputId": "1682946f-a432-49c8-b1f7-6a550a73794b",
        "colab": {
          "base_uri": "https://localhost:8080/"
        }
      },
      "outputs": [
        {
          "output_type": "execute_result",
          "data": {
            "text/plain": [
              "[3, 1, 5, 2, 4]"
            ]
          },
          "metadata": {},
          "execution_count": 26
        }
      ],
      "source": [
        "# We can verify that 'x' is the same as before.\n",
        "x"
      ]
    },
    {
      "cell_type": "markdown",
      "metadata": {
        "id": "isPfczrMmWus"
      },
      "source": [
        "### 2. Tuple:"
      ]
    },
    {
      "cell_type": "markdown",
      "metadata": {
        "id": "U010CdSlmWus"
      },
      "source": [
        "#### 2.1. Creating tuples:"
      ]
    },
    {
      "cell_type": "code",
      "execution_count": null,
      "metadata": {
        "id": "l1Qn93rZmWus",
        "outputId": "1fffdd6b-f9eb-43f1-eb5d-22d30f1ea1af",
        "colab": {
          "base_uri": "https://localhost:8080/"
        }
      },
      "outputs": [
        {
          "output_type": "execute_result",
          "data": {
            "text/plain": [
              "tuple"
            ]
          },
          "metadata": {},
          "execution_count": 27
        }
      ],
      "source": [
        "x = (1, 3, True, False, 'Hello', [3,5,7])\n",
        "type(x)"
      ]
    },
    {
      "cell_type": "code",
      "execution_count": null,
      "metadata": {
        "id": "aDo_P8F2mWus",
        "outputId": "f94def1f-5ac1-4e82-d3c9-e9e03f99f5a6",
        "colab": {
          "base_uri": "https://localhost:8080/"
        }
      },
      "outputs": [
        {
          "output_type": "execute_result",
          "data": {
            "text/plain": [
              "(1, 2, 3, 4)"
            ]
          },
          "metadata": {},
          "execution_count": 28
        }
      ],
      "source": [
        "# A range cast as tuple.\n",
        "x = tuple(range(1,5))\n",
        "x"
      ]
    },
    {
      "cell_type": "markdown",
      "metadata": {
        "id": "XEZ7RW-jmWus"
      },
      "source": [
        "#### 2.2. Indexing and slicing tuples:"
      ]
    },
    {
      "cell_type": "code",
      "execution_count": null,
      "metadata": {
        "id": "-PRH2gFgmWuw",
        "outputId": "29ed7bec-f054-4135-e1f9-7d250e924cc8",
        "colab": {
          "base_uri": "https://localhost:8080/"
        }
      },
      "outputs": [
        {
          "output_type": "execute_result",
          "data": {
            "text/plain": [
              "('Life', 'is')"
            ]
          },
          "metadata": {},
          "execution_count": 29
        }
      ],
      "source": [
        "x = (1, 2, ('Life', 'is'))\n",
        "x[2]"
      ]
    },
    {
      "cell_type": "code",
      "execution_count": null,
      "metadata": {
        "id": "_6epLBjWmWuw",
        "outputId": "d841a62f-e3bb-4e13-d33d-8bf924ad52a1",
        "colab": {
          "base_uri": "https://localhost:8080/",
          "height": 36
        }
      },
      "outputs": [
        {
          "output_type": "execute_result",
          "data": {
            "text/plain": [
              "'is'"
            ],
            "application/vnd.google.colaboratory.intrinsic+json": {
              "type": "string"
            }
          },
          "metadata": {},
          "execution_count": 30
        }
      ],
      "source": [
        "x[2][1]"
      ]
    },
    {
      "cell_type": "code",
      "execution_count": null,
      "metadata": {
        "id": "0Ih3XjKsmWuw",
        "outputId": "54cf689e-c12d-4502-9287-e2c286804ee2",
        "colab": {
          "base_uri": "https://localhost:8080/"
        }
      },
      "outputs": [
        {
          "output_type": "execute_result",
          "data": {
            "text/plain": [
              "['a', 'b']"
            ]
          },
          "metadata": {},
          "execution_count": 31
        }
      ],
      "source": [
        "x = (1, 2, 3, ['a', 'b', 'c'], 4, 5)\n",
        "x[3][:2]"
      ]
    },
    {
      "cell_type": "markdown",
      "metadata": {
        "id": "D8wI25eKmWuw"
      },
      "source": [
        "#### 2.3. Operations with tuples:"
      ]
    },
    {
      "cell_type": "code",
      "execution_count": null,
      "metadata": {
        "id": "rzl-9BMfmWuw",
        "outputId": "0bbac164-bf57-4d20-c4b8-73672cffe638",
        "colab": {
          "base_uri": "https://localhost:8080/"
        }
      },
      "outputs": [
        {
          "output_type": "execute_result",
          "data": {
            "text/plain": [
              "(1, 2, 3, 4, 5, 6)"
            ]
          },
          "metadata": {},
          "execution_count": 32
        }
      ],
      "source": [
        "a = (1, 2, 3)\n",
        "b = (4, 5, 6)\n",
        "a + b"
      ]
    },
    {
      "cell_type": "code",
      "execution_count": null,
      "metadata": {
        "id": "nHBtvOVZmWuw",
        "outputId": "e9f96bf8-2645-49e1-9c76-d6808575c87d",
        "colab": {
          "base_uri": "https://localhost:8080/"
        }
      },
      "outputs": [
        {
          "output_type": "execute_result",
          "data": {
            "text/plain": [
              "(1, 2, 3, 1, 2, 3, 1, 2, 3)"
            ]
          },
          "metadata": {},
          "execution_count": 33
        }
      ],
      "source": [
        "a * 3"
      ]
    },
    {
      "cell_type": "markdown",
      "metadata": {
        "id": "gNGcSTcvmWuw"
      },
      "source": [
        "### 3. Dictionary:"
      ]
    },
    {
      "cell_type": "markdown",
      "metadata": {
        "id": "Mk69tH6fmWuw"
      },
      "source": [
        "#### 3.1. Creating dictionaries:"
      ]
    },
    {
      "cell_type": "code",
      "execution_count": null,
      "metadata": {
        "id": "x2a08W6MmWuw"
      },
      "outputs": [],
      "source": [
        "d = {'x':[1,2,3], 'y':[4,5,6]}"
      ]
    },
    {
      "cell_type": "code",
      "execution_count": null,
      "metadata": {
        "id": "6Bk1IYtumWuw",
        "outputId": "1a473beb-4cdb-4d30-ec3c-9310c9f78875",
        "colab": {
          "base_uri": "https://localhost:8080/"
        }
      },
      "outputs": [
        {
          "output_type": "execute_result",
          "data": {
            "text/plain": [
              "[1, 2, 3]"
            ]
          },
          "metadata": {},
          "execution_count": 35
        }
      ],
      "source": [
        "d['x']"
      ]
    },
    {
      "cell_type": "code",
      "execution_count": null,
      "metadata": {
        "id": "rY7mJ1dnmWuw",
        "outputId": "bcddd18d-b05b-4a49-e808-3ca39f9c3080",
        "colab": {
          "base_uri": "https://localhost:8080/"
        }
      },
      "outputs": [
        {
          "output_type": "execute_result",
          "data": {
            "text/plain": [
              "[4, 5, 6]"
            ]
          },
          "metadata": {},
          "execution_count": 36
        }
      ],
      "source": [
        "d['y']"
      ]
    },
    {
      "cell_type": "markdown",
      "metadata": {
        "id": "4GNATdyQmWuw"
      },
      "source": [
        "#### 3.2. Adding key-value pairs, deletion, update:"
      ]
    },
    {
      "cell_type": "code",
      "execution_count": null,
      "metadata": {
        "id": "V0ClsP4smWuw",
        "outputId": "53ac8b96-2a5b-4f9e-fc43-c34e0a41ec90",
        "colab": {
          "base_uri": "https://localhost:8080/"
        }
      },
      "outputs": [
        {
          "output_type": "execute_result",
          "data": {
            "text/plain": [
              "{'name': 'John', 'gender': 'Male', 'age': 23}"
            ]
          },
          "metadata": {},
          "execution_count": 37
        }
      ],
      "source": [
        "d = {}\n",
        "d['name'] = 'John'\n",
        "d['gender'] = 'Male'\n",
        "d['age'] = 23\n",
        "d"
      ]
    },
    {
      "cell_type": "code",
      "execution_count": null,
      "metadata": {
        "id": "GWW9zXOGmWuw",
        "outputId": "9e9d9ef1-2bba-4438-fd87-79e3b4f05e73",
        "colab": {
          "base_uri": "https://localhost:8080/"
        }
      },
      "outputs": [
        {
          "output_type": "execute_result",
          "data": {
            "text/plain": [
              "{'name': 'John', 'gender': 'Male'}"
            ]
          },
          "metadata": {},
          "execution_count": 38
        }
      ],
      "source": [
        "del d['age']\n",
        "d"
      ]
    },
    {
      "cell_type": "code",
      "execution_count": null,
      "metadata": {
        "id": "NrtSo6BjmWux",
        "outputId": "96c1182e-4c22-45d6-e504-77ed82617227",
        "colab": {
          "base_uri": "https://localhost:8080/"
        }
      },
      "outputs": [
        {
          "output_type": "execute_result",
          "data": {
            "text/plain": [
              "{'name': 'Andrew', 'gender': 'Male'}"
            ]
          },
          "metadata": {},
          "execution_count": 39
        }
      ],
      "source": [
        "d['name'] = 'Andrew'\n",
        "d"
      ]
    },
    {
      "cell_type": "markdown",
      "metadata": {
        "id": "a7nn1iHsmWux"
      },
      "source": [
        "#### 3.3. Dictionary methods and operations:"
      ]
    },
    {
      "cell_type": "code",
      "execution_count": null,
      "metadata": {
        "id": "tPdCOTZ_mWux",
        "outputId": "fe5cad59-c95f-49cb-e605-e8769528d90c",
        "colab": {
          "base_uri": "https://localhost:8080/"
        }
      },
      "outputs": [
        {
          "output_type": "execute_result",
          "data": {
            "text/plain": [
              "dict_keys(['name', 'gender'])"
            ]
          },
          "metadata": {},
          "execution_count": 40
        }
      ],
      "source": [
        "d.keys()"
      ]
    },
    {
      "cell_type": "code",
      "execution_count": null,
      "metadata": {
        "id": "N7ZQYTTKmWux",
        "outputId": "6aa7a1d9-77ab-4d08-f405-a5c6609b04f4",
        "colab": {
          "base_uri": "https://localhost:8080/"
        }
      },
      "outputs": [
        {
          "output_type": "execute_result",
          "data": {
            "text/plain": [
              "dict_values(['Andrew', 'Male'])"
            ]
          },
          "metadata": {},
          "execution_count": 41
        }
      ],
      "source": [
        "d.values()"
      ]
    },
    {
      "cell_type": "code",
      "execution_count": null,
      "metadata": {
        "id": "4JHTwcYGmWux",
        "outputId": "0b0193f4-1951-4e4c-90e4-6c9fdfd5adf3",
        "colab": {
          "base_uri": "https://localhost:8080/"
        }
      },
      "outputs": [
        {
          "output_type": "execute_result",
          "data": {
            "text/plain": [
              "dict_items([('name', 'Andrew'), ('gender', 'Male')])"
            ]
          },
          "metadata": {},
          "execution_count": 42
        }
      ],
      "source": [
        "d.items()"
      ]
    },
    {
      "cell_type": "code",
      "execution_count": null,
      "metadata": {
        "id": "G34uZPCXmWux",
        "outputId": "de42ce77-3823-492c-81e9-ed98ed9f2caa",
        "colab": {
          "base_uri": "https://localhost:8080/"
        }
      },
      "outputs": [
        {
          "output_type": "execute_result",
          "data": {
            "text/plain": [
              "{}"
            ]
          },
          "metadata": {},
          "execution_count": 43
        }
      ],
      "source": [
        "d.clear()\n",
        "d"
      ]
    },
    {
      "cell_type": "code",
      "execution_count": null,
      "metadata": {
        "id": "P7oHY9ommWux",
        "outputId": "42471c22-721c-4e5e-bdf2-6890643f822c",
        "colab": {
          "base_uri": "https://localhost:8080/"
        }
      },
      "outputs": [
        {
          "output_type": "execute_result",
          "data": {
            "text/plain": [
              "0"
            ]
          },
          "metadata": {},
          "execution_count": 44
        }
      ],
      "source": [
        "d = {'name': 'John', 'gender': 'Male', 'age': 23}\n",
        "d.get('wage', 0)"
      ]
    },
    {
      "cell_type": "code",
      "execution_count": null,
      "metadata": {
        "id": "YeESIQTrmWux",
        "outputId": "fbf638f1-3a3e-426e-f09b-5539d22e2b97",
        "colab": {
          "base_uri": "https://localhost:8080/"
        }
      },
      "outputs": [
        {
          "output_type": "execute_result",
          "data": {
            "text/plain": [
              "True"
            ]
          },
          "metadata": {},
          "execution_count": 45
        }
      ],
      "source": [
        "# Check whether 'name' is a key of d.\n",
        "'name' in d"
      ]
    },
    {
      "cell_type": "code",
      "execution_count": null,
      "metadata": {
        "id": "M8JppF-zmWux",
        "outputId": "dbb126d5-7733-4207-d0bc-6af5fa9f24af",
        "colab": {
          "base_uri": "https://localhost:8080/"
        }
      },
      "outputs": [
        {
          "output_type": "execute_result",
          "data": {
            "text/plain": [
              "False"
            ]
          },
          "metadata": {},
          "execution_count": 46
        }
      ],
      "source": [
        "# Check whether 'wage' is a key of d.\n",
        "'wage' in d"
      ]
    },
    {
      "cell_type": "markdown",
      "metadata": {
        "id": "iXVFfPdvmWux"
      },
      "source": [
        "### 4. Set:"
      ]
    },
    {
      "cell_type": "markdown",
      "metadata": {
        "id": "qxMZbp6PmWux"
      },
      "source": [
        "#### 4.1. Creating a set:"
      ]
    },
    {
      "cell_type": "code",
      "execution_count": null,
      "metadata": {
        "id": "BHXQrsNqmWux",
        "outputId": "c58f04b8-ba17-4092-aa09-6c13d8847ced",
        "colab": {
          "base_uri": "https://localhost:8080/"
        }
      },
      "outputs": [
        {
          "output_type": "execute_result",
          "data": {
            "text/plain": [
              "{1, 2, 3, 4, 5}"
            ]
          },
          "metadata": {},
          "execution_count": 47
        }
      ],
      "source": [
        "b = set([1,2,3,3,3,3,4,5])\n",
        "b"
      ]
    },
    {
      "cell_type": "markdown",
      "metadata": {
        "id": "ef9Ceno0mWux"
      },
      "source": [
        "#### 4.2. Operations with sets:"
      ]
    },
    {
      "cell_type": "code",
      "execution_count": null,
      "metadata": {
        "id": "rOUs0eQfmWux",
        "outputId": "87cdcfe1-dcb7-4758-b9d1-246a0afe45f4",
        "colab": {
          "base_uri": "https://localhost:8080/"
        }
      },
      "outputs": [
        {
          "output_type": "execute_result",
          "data": {
            "text/plain": [
              "{4, 5}"
            ]
          },
          "metadata": {},
          "execution_count": 48
        }
      ],
      "source": [
        "s1 = set([1, 2, 3, 4, 5])\n",
        "s2 = set([4, 5, 6, 7, 8])\n",
        "s1 & s2"
      ]
    },
    {
      "cell_type": "code",
      "execution_count": null,
      "metadata": {
        "id": "Yfvv8RbLmWux",
        "outputId": "25b693a6-c24f-4940-9c27-c1c8670e212e",
        "colab": {
          "base_uri": "https://localhost:8080/"
        }
      },
      "outputs": [
        {
          "output_type": "execute_result",
          "data": {
            "text/plain": [
              "{4, 5}"
            ]
          },
          "metadata": {},
          "execution_count": 49
        }
      ],
      "source": [
        "s1.intersection(s2)"
      ]
    },
    {
      "cell_type": "code",
      "execution_count": null,
      "metadata": {
        "id": "UZ8ofyx2mWux",
        "outputId": "0e0da865-545b-4c04-be03-f57ee1f7b9d5",
        "colab": {
          "base_uri": "https://localhost:8080/"
        }
      },
      "outputs": [
        {
          "output_type": "execute_result",
          "data": {
            "text/plain": [
              "{1, 2, 3, 4, 5, 6, 7, 8}"
            ]
          },
          "metadata": {},
          "execution_count": 50
        }
      ],
      "source": [
        "s1 | s2"
      ]
    },
    {
      "cell_type": "code",
      "execution_count": null,
      "metadata": {
        "id": "BEWqJ0-xmWux",
        "outputId": "900f2d9f-546c-47bf-b5c6-d3934d86a5e6",
        "colab": {
          "base_uri": "https://localhost:8080/"
        }
      },
      "outputs": [
        {
          "output_type": "execute_result",
          "data": {
            "text/plain": [
              "{1, 2, 3, 4, 5, 6, 7, 8}"
            ]
          },
          "metadata": {},
          "execution_count": 51
        }
      ],
      "source": [
        "s1.union(s2)"
      ]
    },
    {
      "cell_type": "code",
      "execution_count": null,
      "metadata": {
        "id": "Zx2KBk6dmWux",
        "outputId": "d7bd223d-13dd-40ee-fc79-4386633dbdeb",
        "colab": {
          "base_uri": "https://localhost:8080/"
        }
      },
      "outputs": [
        {
          "output_type": "execute_result",
          "data": {
            "text/plain": [
              "{1, 2, 3}"
            ]
          },
          "metadata": {},
          "execution_count": 52
        }
      ],
      "source": [
        "s1 - s2"
      ]
    },
    {
      "cell_type": "code",
      "execution_count": null,
      "metadata": {
        "id": "N4vD929CmWux",
        "outputId": "74a27942-71f1-4a66-ce10-bbaa23bd42b0",
        "colab": {
          "base_uri": "https://localhost:8080/"
        }
      },
      "outputs": [
        {
          "output_type": "execute_result",
          "data": {
            "text/plain": [
              "{1, 2, 3}"
            ]
          },
          "metadata": {},
          "execution_count": 53
        }
      ],
      "source": [
        "s1.difference(s2)"
      ]
    },
    {
      "cell_type": "code",
      "execution_count": null,
      "metadata": {
        "id": "-UYKU4X-mWux",
        "outputId": "350d26eb-16d9-40d6-c5d6-c44746b2f547",
        "colab": {
          "base_uri": "https://localhost:8080/"
        }
      },
      "outputs": [
        {
          "output_type": "execute_result",
          "data": {
            "text/plain": [
              "{1, 2, 3, 4, 5, 6}"
            ]
          },
          "metadata": {},
          "execution_count": 54
        }
      ],
      "source": [
        "a = set([1, 2, 3, 4, 5])\n",
        "a.add(6)\n",
        "a"
      ]
    },
    {
      "cell_type": "code",
      "execution_count": null,
      "metadata": {
        "id": "9ZvFT4mPmWux",
        "outputId": "119836b7-71c9-466f-fa5a-d0a877a3b4da",
        "colab": {
          "base_uri": "https://localhost:8080/"
        }
      },
      "outputs": [
        {
          "output_type": "execute_result",
          "data": {
            "text/plain": [
              "{1, 2, 3, 4, 5, 6, 7, 8, 9}"
            ]
          },
          "metadata": {},
          "execution_count": 55
        }
      ],
      "source": [
        "a.update([7, 8, 9])\n",
        "a"
      ]
    },
    {
      "cell_type": "code",
      "execution_count": null,
      "metadata": {
        "id": "jEKWIn6HmWux",
        "outputId": "ff40911d-230a-4015-e41f-9529f63b3ca1",
        "colab": {
          "base_uri": "https://localhost:8080/"
        }
      },
      "outputs": [
        {
          "output_type": "execute_result",
          "data": {
            "text/plain": [
              "{1, 2, 3, 4, 5, 6, 7, 8}"
            ]
          },
          "metadata": {},
          "execution_count": 56
        }
      ],
      "source": [
        "a.remove(9)\n",
        "a"
      ]
    }
  ],
  "metadata": {
    "kernelspec": {
      "display_name": "Python 3",
      "language": "python",
      "name": "python3"
    },
    "language_info": {
      "codemirror_mode": {
        "name": "ipython",
        "version": 3
      },
      "file_extension": ".py",
      "mimetype": "text/x-python",
      "name": "python",
      "nbconvert_exporter": "python",
      "pygments_lexer": "ipython3",
      "version": "3.7.3"
    },
    "colab": {
      "provenance": [],
      "include_colab_link": true
    }
  },
  "nbformat": 4,
  "nbformat_minor": 0
}